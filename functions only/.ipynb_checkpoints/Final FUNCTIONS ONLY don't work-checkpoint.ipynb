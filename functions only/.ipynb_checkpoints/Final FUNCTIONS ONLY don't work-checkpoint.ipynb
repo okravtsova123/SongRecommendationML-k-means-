{
 "cells": [
  {
   "cell_type": "code",
   "execution_count": 13,
   "id": "95c38b47",
   "metadata": {},
   "outputs": [],
   "source": [
    "import numpy as np\n",
    "import pandas as pd\n",
    "import pickle\n",
    "from sklearn import datasets # sklearn comes with some toy datasets to practice\n",
    "from sklearn.preprocessing import StandardScaler\n",
    "from sklearn.cluster import KMeans\n",
    "import matplotlib.pyplot as plt\n",
    "from sklearn.metrics import silhouette_score\n",
    "import json\n",
    "from spotipy.oauth2 import SpotifyClientCredentials\n",
    "import config #file with client_id and secret for the Spotify API\n",
    "import spotipy\n",
    "from IPython.display import IFrame\n",
    "\n",
    "import warnings\n",
    "\n",
    "with warnings.catch_warnings():\n",
    "    warnings.simplefilter(\"ignore\", category=FutureWarning)\n",
    "    kmeans = KMeans()  # Equivalent to setting n_init=10 (default)"
   ]
  },
  {
   "cell_type": "code",
   "execution_count": 16,
   "id": "f718aba7",
   "metadata": {},
   "outputs": [],
   "source": [
    "#reading df with Spotify songs extracted with API (based on 1800-1900 songs)\n",
    "df=pd.read_csv(\"https://raw.githubusercontent.com/okravtsova123/SongRecommendationML-k-means-/main/songs_with_AF.csv\")\n",
    "sp = spotipy.Spotify(auth_manager=SpotifyClientCredentials(client_id= config.client_id, client_secret= config.client_secret))"
   ]
  },
  {
   "cell_type": "code",
   "execution_count": 17,
   "id": "0b23edcd",
   "metadata": {},
   "outputs": [],
   "source": [
    "#FUNCTIONS\n",
    "\n",
    "#FUNCTIONS FOR PREPING THE FILE AND GETTING CLUSTERS\n",
    "\n",
    "def input_url():\n",
    "    url=input(\"please input url with CSV with all the songs:\")\n",
    "    return prep_csv(url)\n",
    "\n",
    "def prep_csv(url):\n",
    "    df=pd.read_csv(url)\n",
    "    #dropping columns for analysis\n",
    "    columns_to_drop=['type', 'uri','track_href', 'analysis_url', 'duration_ms', 'time_signature']\n",
    "    X=df.drop(columns_to_drop, axis=1)\n",
    "    # setting indexes as IDs - convinient for scaling\n",
    "    X.set_index(\"id\", inplace=True)\n",
    "    return scaling_fit(X)\n",
    "\n",
    "def scaling_fit(df):\n",
    "    #scaling\n",
    "    df=df\n",
    "    scaler=StandardScaler()\n",
    "    scaler.fit(df)\n",
    "    x=0\n",
    "    return scaling_transform(df, x, scaler)\n",
    "\n",
    "def scaling_transform(df, x, scaler):\n",
    "    ids=df.index\n",
    "    scaler=scaler\n",
    "    scaled_df=pd.DataFrame(scaler.transform(df), columns=df.columns)\n",
    "    scaled_df=scaled_df.set_index(ids)\n",
    "    if x==1:\n",
    "        return recomendation(scaled_df, scaler)\n",
    "    else:\n",
    "        return training_model(scaled_df, scaler)\n",
    "\n",
    "def training_model(scaled_df, scaler): #NEED TO FIGURE OUT HOW TO CHECK N OF CLUSTERS AUTOMATICALLY\n",
    "    n=int(input('how many clusters do you want to have?'))\n",
    "    scaler=scaler\n",
    "    kmeans = KMeans(n_clusters=n, random_state=42)\n",
    "    kmeans.fit(scaled_df)\n",
    "    scaled_df=scaled_df\n",
    "    #identifying clusters\n",
    "    clusters = kmeans.predict(scaled_df)\n",
    "    clusters_df=pd.DataFrame(clusters).value_counts().sort_index()\n",
    "\n",
    "    #checking whether we need to check the amount of clusters\n",
    "    a=int(input(\"what amount of clusters do you want to check? FROM: \"))\n",
    "    b=int(input(\"TO:\"))\n",
    "    \n",
    "    K = range(a, b)\n",
    "    silhouette = []\n",
    "    print(\"\")\n",
    "    print(\"that's the clusters and the amount of songs in each cluster:\")\n",
    "    print(clusters_df)\n",
    "\n",
    "    for k in K:\n",
    "        kmeans = KMeans(n_clusters=k,\n",
    "                    random_state=42, n_init=10)\n",
    "        kmeans.fit(scaled_df)\n",
    "    \n",
    "        silhouette.append(silhouette_score(scaled_df, kmeans.predict(scaled_df)))\n",
    "    \n",
    "    plt.plot(K, silhouette, 'bx-')\n",
    "    plt.xlabel('k')\n",
    "    plt.ylabel('silhouette score')\n",
    "    plt.xticks(np.arange(min(K), max(K)+1, 1.0))\n",
    "    plt.title('Silhouette Method showing the optimal k')\n",
    "    plt.figure(figsize=(16,8))\n",
    "    plt.show()\n",
    "    return change_clusters_check(scaled_df, clusters, scaler)\n",
    "\n",
    "def change_clusters_check(scaled_df, clusters, scaler):\n",
    "    check=0\n",
    "    scaler=scaler\n",
    "    scaled_df=scaled_df\n",
    "    clusters=clusters\n",
    "\n",
    "    while check not in (\"yes\", \"no\"):\n",
    "        check=input(\"do you want to change the number of clusters?\")\n",
    "    if check==\"yes\":\n",
    "        return training_model(scaled_df)\n",
    "    else:\n",
    "        scaled_df_w_clusters=scaled_df\n",
    "        scaled_df_w_clusters['cluster']=clusters\n",
    "        print(\"ready, now you can use user_input() function\")\n",
    "        return scaled_df_w_clusters, scaler\n",
    "\n",
    "    \n",
    "#FUNCTIONS FOR PREPING THE FILE AND GETTING CLUSTERS    \n",
    "def user_input():\n",
    "    song_input=input(\"input your favourite song:\")\n",
    "    song_input=song_input.lower()\n",
    "    return search_spotify(song_input)\n",
    "\n",
    "def search_spotify(song):\n",
    "    song_name=song\n",
    "    result=sp.search(q=song_name,type=\"track\",market=\"GB\")\n",
    "    song_id=result['tracks']['items'][0]['id']\n",
    "    return extracting_AF(song_id)\n",
    "\n",
    "def extracting_AF(id_):\n",
    "    song_af=pd.DataFrame(sp.audio_features(id_))\n",
    "    song_af=song_af.drop(['type', 'uri', 'track_href', 'analysis_url', 'duration_ms', 'time_signature'], axis=1)\n",
    "    song_af=song_af.set_index(\"id\")\n",
    "    x=1\n",
    "    return scaling_transform(song_af, x)\n",
    "\n",
    "def recomendation(scaled_df):\n",
    "    #getting the cluster\n",
    "    cluster_for_rec=kmeans.predict(scaled_df)[0]\n",
    "    #checking df with this cluster and extracting sample\n",
    "    recomended_song=scaled_df_w_clusters[scaled_df_w_clusters['cluster']==cluster_for_rec].sample()\n",
    "    recomended_song_id=recomended_song.index[0]\n",
    "    #playing recommended song\n",
    "    recomended_song_id = str(recomended_song_id)\n",
    "    return IFrame(src=\"https://open.spotify.com/embed/track/\"+recomended_song_id,\n",
    "                 width=\"320\", height=\"80\", frameborder=\"0\",allowtransparency=\"true\",allow=\"encrypted-media\")"
   ]
  },
  {
   "cell_type": "code",
   "execution_count": 18,
   "id": "dc6fbd6b",
   "metadata": {
    "scrolled": false
   },
   "outputs": [
    {
     "name": "stdout",
     "output_type": "stream",
     "text": [
      "how many clusters do you want to have?23\n"
     ]
    },
    {
     "name": "stderr",
     "output_type": "stream",
     "text": [
      "C:\\Users\\user\\anaconda3\\Lib\\site-packages\\sklearn\\cluster\\_kmeans.py:1412: FutureWarning: The default value of `n_init` will change from 10 to 'auto' in 1.4. Set the value of `n_init` explicitly to suppress the warning\n",
      "  super()._check_params_vs_input(X, default_n_init=10)\n"
     ]
    },
    {
     "name": "stdout",
     "output_type": "stream",
     "text": [
      "what amount of clusters do you want to check? FROM: 5\n",
      "TO:9\n",
      "\n",
      "that's the clusters and the amount of songs in each cluster:\n",
      "0     293\n",
      "1     130\n",
      "2     112\n",
      "3     154\n",
      "4     188\n",
      "5     261\n",
      "6     234\n",
      "7     162\n",
      "8     292\n",
      "9     253\n",
      "10    140\n",
      "11    283\n",
      "12    136\n",
      "13    176\n",
      "14    185\n",
      "15    212\n",
      "16    239\n",
      "17    204\n",
      "18    154\n",
      "19    230\n",
      "20    117\n",
      "21    103\n",
      "22    149\n",
      "Name: count, dtype: int64\n"
     ]
    },
    {
     "data": {
      "image/png": "[encoded data removed]",
      "text/plain": [
       "<Figure size 640x480 with 1 Axes>"
      ]
     },
     "metadata": {},
     "output_type": "display_data"
    },
    {
     "data": {
      "text/plain": [
       "<Figure size 1600x800 with 0 Axes>"
      ]
     },
     "metadata": {},
     "output_type": "display_data"
    },
    {
     "name": "stdout",
     "output_type": "stream",
     "text": [
      "do you want to change the number of clusters?no\n",
      "ready, now you can use user_input() function\n"
     ]
    }
   ],
   "source": [
    "#SAVE THE RESULT OF A FUNCTION PREP_CSV OR INPUT_URL AS scaled_df_w_clusters OR THE USER INPUT WON'T WORK\n",
    "scaled_df_w_clusters, scaler =prep_csv(\"https://raw.githubusercontent.com/okravtsova123/SongRecommendationML-k-means-/main/songs_with_AF.csv\")"
   ]
  },
  {
   "cell_type": "code",
   "execution_count": 19,
   "id": "aa2f2f1b",
   "metadata": {},
   "outputs": [
    {
     "name": "stdout",
     "output_type": "stream",
     "text": [
      "input your favourite song:despacito\n"
     ]
    },
    {
     "ename": "TypeError",
     "evalue": "scaling_transform() missing 1 required positional argument: 'scaler'",
     "output_type": "error",
     "traceback": [
      "\u001b[1;31m---------------------------------------------------------------------------\u001b[0m",
      "\u001b[1;31mTypeError\u001b[0m                                 Traceback (most recent call last)",
      "Cell \u001b[1;32mIn[19], line 1\u001b[0m\n\u001b[1;32m----> 1\u001b[0m user_input()\n",
      "Cell \u001b[1;32mIn[17], line 93\u001b[0m, in \u001b[0;36muser_input\u001b[1;34m()\u001b[0m\n\u001b[0;32m     91\u001b[0m song_input\u001b[38;5;241m=\u001b[39m\u001b[38;5;28minput\u001b[39m(\u001b[38;5;124m\"\u001b[39m\u001b[38;5;124minput your favourite song:\u001b[39m\u001b[38;5;124m\"\u001b[39m)\n\u001b[0;32m     92\u001b[0m song_input\u001b[38;5;241m=\u001b[39msong_input\u001b[38;5;241m.\u001b[39mlower()\n\u001b[1;32m---> 93\u001b[0m \u001b[38;5;28;01mreturn\u001b[39;00m search_spotify(song_input)\n",
      "Cell \u001b[1;32mIn[17], line 99\u001b[0m, in \u001b[0;36msearch_spotify\u001b[1;34m(song)\u001b[0m\n\u001b[0;32m     97\u001b[0m result\u001b[38;5;241m=\u001b[39msp\u001b[38;5;241m.\u001b[39msearch(q\u001b[38;5;241m=\u001b[39msong_name,\u001b[38;5;28mtype\u001b[39m\u001b[38;5;241m=\u001b[39m\u001b[38;5;124m\"\u001b[39m\u001b[38;5;124mtrack\u001b[39m\u001b[38;5;124m\"\u001b[39m,market\u001b[38;5;241m=\u001b[39m\u001b[38;5;124m\"\u001b[39m\u001b[38;5;124mGB\u001b[39m\u001b[38;5;124m\"\u001b[39m)\n\u001b[0;32m     98\u001b[0m song_id\u001b[38;5;241m=\u001b[39mresult[\u001b[38;5;124m'\u001b[39m\u001b[38;5;124mtracks\u001b[39m\u001b[38;5;124m'\u001b[39m][\u001b[38;5;124m'\u001b[39m\u001b[38;5;124mitems\u001b[39m\u001b[38;5;124m'\u001b[39m][\u001b[38;5;241m0\u001b[39m][\u001b[38;5;124m'\u001b[39m\u001b[38;5;124mid\u001b[39m\u001b[38;5;124m'\u001b[39m]\n\u001b[1;32m---> 99\u001b[0m \u001b[38;5;28;01mreturn\u001b[39;00m extracting_AF(song_id)\n",
      "Cell \u001b[1;32mIn[17], line 106\u001b[0m, in \u001b[0;36mextracting_AF\u001b[1;34m(id_)\u001b[0m\n\u001b[0;32m    104\u001b[0m song_af\u001b[38;5;241m=\u001b[39msong_af\u001b[38;5;241m.\u001b[39mset_index(\u001b[38;5;124m\"\u001b[39m\u001b[38;5;124mid\u001b[39m\u001b[38;5;124m\"\u001b[39m)\n\u001b[0;32m    105\u001b[0m x\u001b[38;5;241m=\u001b[39m\u001b[38;5;241m1\u001b[39m\n\u001b[1;32m--> 106\u001b[0m \u001b[38;5;28;01mreturn\u001b[39;00m scaling_transform(song_af, x)\n",
      "\u001b[1;31mTypeError\u001b[0m: scaling_transform() missing 1 required positional argument: 'scaler'"
     ]
    }
   ],
   "source": [
    "user_input()"
   ]
  },
  {
   "cell_type": "code",
   "execution_count": null,
   "id": "d1ae1f8d",
   "metadata": {},
   "outputs": [],
   "source": []
  }
 ],
 "metadata": {
  "kernelspec": {
   "display_name": "Python 3 (ipykernel)",
   "language": "python",
   "name": "python3"
  },
  "language_info": {
   "codemirror_mode": {
    "name": "ipython",
    "version": 3
   },
   "file_extension": ".py",
   "mimetype": "text/x-python",
   "name": "python",
   "nbconvert_exporter": "python",
   "pygments_lexer": "ipython3",
   "version": "3.11.5"
  }
 },
 "nbformat": 4,
 "nbformat_minor": 5
}
