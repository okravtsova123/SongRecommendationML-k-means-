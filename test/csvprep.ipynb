{
 "cells": [
  {
   "cell_type": "code",
   "execution_count": 1,
   "id": "c8eaeff6",
   "metadata": {},
   "outputs": [],
   "source": [
    "import config #file with client_id and secret for the Spotify API\n",
    "import spotipy\n",
    "import pandas as pd\n",
    "import json\n",
    "from spotipy.oauth2 import SpotifyClientCredentials"
   ]
  },
  {
   "cell_type": "code",
   "execution_count": 2,
   "id": "7b95f62f",
   "metadata": {},
   "outputs": [],
   "source": [
    "#Initialize SpotiPy with user credentials\n",
    "sp = spotipy.Spotify(auth_manager=SpotifyClientCredentials(client_id= config.client_id,\n",
    "                                                           client_secret= config.client_secret))"
   ]
  },
  {
   "cell_type": "code",
   "execution_count": 26,
   "id": "0c5bc9ff",
   "metadata": {},
   "outputs": [
    {
     "data": {
      "text/plain": [
       "23"
      ]
     },
     "execution_count": 26,
     "metadata": {},
     "output_type": "execute_result"
    }
   ],
   "source": [
    "list_of_playlists=[\"Top 100 Greatest Songs of All Time\", \"Pop Hits 2024\", \"Pop Party\", \"Rock Hits\", \"Rock Classics\", \"Big rock tracks from 2000\", \"Hip-Hop 2023\", \"Hip Hop Dance Playlist\", \"Hip-Hop Classics Party\", \"EDM House mix\", \"Eletronic Music Mix\", \"Electronic Dance Music\", \"Techno Music 2024\", \"Techno Remix\", \"Viva Latino\", \"Latino Dance Hits\", \"The 100 most streamed songs on Spotify\", \"RnB Hits 2024\", \"Jazz Classics\", \"Best Classical Music\", \"kids playlist 2023\", \"Hot hits Deutschland\", \"Happy Dance\"]\n",
    "len(list_of_playlists)"
   ]
  },
  {
   "cell_type": "code",
   "execution_count": 27,
   "id": "c31c1586",
   "metadata": {},
   "outputs": [],
   "source": [
    "#def function fo extracting tracks from the playlists and place them into list\n",
    "\n",
    "#function to get playlist_id\n",
    "\n",
    "def playlist_id(name):\n",
    "    result=sp.search(q=name,limit=5,type=\"playlist\", market=\"GB\")\n",
    "    if result[\"playlists\"][\"items\"]:\n",
    "        playlist_id=result[\"playlists\"][\"items\"][0][\"id\"]\n",
    "        print(f\"ID for {name} is found, ID:{playlist_id}\")\n",
    "        #return playlist_id\n",
    "        return get_playlist_tracks (\"Spotify\", playlist_id)\n",
    "    else:\n",
    "        print(\"not found\")\n",
    "\n",
    "#function to get the list of tracks from specific playlist_id    \n",
    "def get_playlist_tracks(username, playlist_id):\n",
    "    results = sp.user_playlist_tracks(username,playlist_id,market=\"GB\")\n",
    "    tracks = results['items']\n",
    "    while results['next']:\n",
    "        results = sp.next(results)\n",
    "        tracks.extend(results['items'])\n",
    "    return songs_ids(tracks)\n",
    "       \n",
    "#function to get a list of songs\n",
    "def songs_ids(tracks):\n",
    "    list_song_ids=[]\n",
    "    for i in tracks:\n",
    "        list_song_ids.append(i['track']['id'])\n",
    "    return chunk(list_song_ids)\n",
    "\n",
    "#function to do the chunk thing\n",
    "def chunk(list_song_ids):\n",
    "    chunk_size = 100\n",
    "    list_chopped = [list_song_ids[i:i+chunk_size] for i in range(0,len(list_song_ids), 100)]\n",
    "    return get_AF(list_chopped)\n",
    "\n",
    "#function to get AF    \n",
    "def get_AF(list_chopped):\n",
    "    list_af = []\n",
    "    for i in list_chopped:\n",
    "        list_af.extend(sp.audio_features(i))\n",
    "    df=pd.DataFrame(list_af)\n",
    "    return df"
   ]
  },
  {
   "cell_type": "code",
   "execution_count": 28,
   "id": "8fe0d023",
   "metadata": {
    "scrolled": true
   },
   "outputs": [
    {
     "name": "stdout",
     "output_type": "stream",
     "text": [
      "ID for today's top hits is found, ID:37i9dQZF1DXcBWIGoYBM5M\n"
     ]
    }
   ],
   "source": [
    "#test all functions with the 1st playlist\n",
    "todays_top_hits=playlist_id(\"today's top hits\")"
   ]
  },
  {
   "cell_type": "code",
   "execution_count": 29,
   "id": "66662397",
   "metadata": {},
   "outputs": [],
   "source": [
    "#creating an empty DF to fill\n",
    "final_df=pd.DataFrame()"
   ]
  },
  {
   "cell_type": "code",
   "execution_count": null,
   "id": "a242585a",
   "metadata": {
    "scrolled": false
   },
   "outputs": [
    {
     "name": "stdout",
     "output_type": "stream",
     "text": [
      "ID for Top 100 Greatest Songs of All Time is found, ID:6i2Qd6OpeRBAzxfscNXeWp\n",
      "ID for Pop Hits 2024 is found, ID:5TDtuKDbOhrfW7C58XnriZ\n",
      "ID for Pop Party is found, ID:2WwJVcVXsJP2dkfKVrOY4h\n",
      "ID for Rock Hits is found, ID:3UNOpyCZYYtjd24JuFgXLM\n",
      "ID for Rock Classics is found, ID:37i9dQZF1DWXRqgorJj26U\n",
      "ID for Big rock tracks from 2000 is found, ID:37i9dQZF1DX6rsDrBNGuWW\n",
      "ID for Hip-Hop 2023 is found, ID:0HpT5j5D5vHL0sPyecTKQr\n",
      "ID for Hip Hop Dance Playlist is found, ID:5B46dEOFzUu8z3uPC9lBLt\n",
      "ID for Hip-Hop Classics Party is found, ID:37i9dQZF1DXbkfWVLd8wE3\n",
      "ID for EDM House mix is found, ID:37i9dQZF1EIdDyy28MYSyS\n",
      "ID for Eletronic Music Mix is found, ID:0MJjDVvC20xinTETjoZrvM\n",
      "ID for Electronic Dance Music is found, ID:6JTc4cdN83XTFgsUB3XLPA\n",
      "ID for Techno Music 2024 is found, ID:18vUeZ9BdtMRNV6gI8RnR6\n",
      "ID for Techno Remix is found, ID:6Q6nROUKNVXTu7UNpQXmzc\n",
      "ID for Viva Latino is found, ID:37i9dQZF1DX10zKzsJ2jva\n",
      "ID for Latino Dance Hits is found, ID:1amPv4WLmtqRrPUSzxADyG\n",
      "ID for The 100 most streamed songs on Spotify is found, ID:5ABHKGoOzxkaa28ttQV9sE\n",
      "ID for RnB Hits 2024 is found, ID:5hPER9wSmkCXf3hbneWJbj\n",
      "ID for Jazz Classics is found, ID:37i9dQZF1DXbITWG1ZJKYt\n"
     ]
    }
   ],
   "source": [
    "#running functions for each genre from the list\n",
    "\n",
    "for playlist in list_of_playlists:\n",
    "    df_temp=playlist_id(playlist)\n",
    "    final_df=pd.concat([final_df, df_temp])"
   ]
  },
  {
   "cell_type": "code",
   "execution_count": null,
   "id": "765e2fe1",
   "metadata": {},
   "outputs": [],
   "source": [
    "#dropping duplicates from the final DF\n",
    "final_df=final_df.drop_duplicates()"
   ]
  },
  {
   "cell_type": "code",
   "execution_count": null,
   "id": "467b97f7",
   "metadata": {},
   "outputs": [],
   "source": [
    "#ready #checking NAs\n",
    "print(final_df.isna().sum()>0)\n",
    "\n",
    "final_df"
   ]
  },
  {
   "cell_type": "code",
   "execution_count": null,
   "id": "865b04a1",
   "metadata": {},
   "outputs": [],
   "source": [
    "final_df.to_csv('songs_with_AF.csv', index=False)"
   ]
  },
  {
   "cell_type": "code",
   "execution_count": null,
   "id": "51c25889",
   "metadata": {},
   "outputs": [],
   "source": []
  }
 ],
 "metadata": {
  "kernelspec": {
   "display_name": "Python 3 (ipykernel)",
   "language": "python",
   "name": "python3"
  },
  "language_info": {
   "codemirror_mode": {
    "name": "ipython",
    "version": 3
   },
   "file_extension": ".py",
   "mimetype": "text/x-python",
   "name": "python",
   "nbconvert_exporter": "python",
   "pygments_lexer": "ipython3",
   "version": "3.11.5"
  }
 },
 "nbformat": 4,
 "nbformat_minor": 5
}
